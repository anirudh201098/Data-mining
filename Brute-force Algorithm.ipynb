{
 "cells": [
  {
   "cell_type": "code",
   "execution_count": 1,
   "metadata": {},
   "outputs": [],
   "source": [
    "import pandas as pd\n",
    "import numpy as np\n",
    "from collections import Counter"
   ]
  },
  {
   "cell_type": "code",
   "execution_count": 2,
   "metadata": {},
   "outputs": [],
   "source": [
    "data = [[100,[1,2,3]],[200,[2,3,5]],[300,[1,2,3,4,5]],[400,[2,5]]]\n",
    "df = pd.DataFrame(data,columns=['T_ID','Items'])\n",
    "df.index=df['T_ID']\n",
    "df=df.drop('T_ID',axis=1)"
   ]
  },
  {
   "cell_type": "code",
   "execution_count": 4,
   "metadata": {},
   "outputs": [],
   "source": [
    "#df.index=df['T_ID']"
   ]
  },
  {
   "cell_type": "code",
   "execution_count": 5,
   "metadata": {},
   "outputs": [],
   "source": [
    "l1=[[1,3,4],[2,3,5],[1,2,3,5],[2,5]]    "
   ]
  },
  {
   "cell_type": "code",
   "execution_count": 6,
   "metadata": {},
   "outputs": [],
   "source": [
    "def candidate(l1):\n",
    "    k=[]\n",
    "    for i in l1:\n",
    "        for j in range(len(i)):\n",
    "            k.append((i[j]))\n",
    "    k=sorted(k)\n",
    "    c1=Counter(k)\n",
    "    return c1"
   ]
  },
  {
   "cell_type": "code",
   "execution_count": 7,
   "metadata": {},
   "outputs": [],
   "source": [
    "def frequent(c1):\n",
    "    l2={}\n",
    "    for i,j in c1.items():\n",
    "        if j>=2:\n",
    "            l2.update({i:j})\n",
    "    return l2\n"
   ]
  },
  {
   "cell_type": "code",
   "execution_count": 8,
   "metadata": {},
   "outputs": [],
   "source": [
    "from itertools import combinations\n",
    "def itertaive(l1,k):\n",
    "    m=[]\n",
    "    for i in l1:\n",
    "        m.append(list(combinations(i,k)))\n",
    "    return m"
   ]
  },
  {
   "cell_type": "code",
   "execution_count": 9,
   "metadata": {},
   "outputs": [],
   "source": [
    "from itertools import combinations\n",
    "def finalFreq(l1,k):\n",
    "    m=itertaive(l1,k)\n",
    "    p=candidate(m)\n",
    "    #final.update(frequent(p))\n",
    "    if len(frequent(p))==1:\n",
    "        return frequent(p)\n",
    "    else:\n",
    "        return finalFreq(l1,k+1)\n",
    "    "
   ]
  },
  {
   "cell_type": "code",
   "execution_count": 10,
   "metadata": {},
   "outputs": [],
   "source": [
    "q=finalFreq(l1,1)\n"
   ]
  },
  {
   "cell_type": "code",
   "execution_count": 22,
   "metadata": {},
   "outputs": [
    {
     "data": {
      "text/plain": [
       "{(2, 3, 5): 2}"
      ]
     },
     "execution_count": 22,
     "metadata": {},
     "output_type": "execute_result"
    }
   ],
   "source": [
    "list(q.values())[0]\n",
    "q"
   ]
  },
  {
   "cell_type": "code",
   "execution_count": null,
   "metadata": {},
   "outputs": [],
   "source": []
  }
 ],
 "metadata": {
  "kernelspec": {
   "display_name": "Python 3.7 (tensorflow)",
   "language": "python",
   "name": "tensorflow"
  },
  "language_info": {
   "codemirror_mode": {
    "name": "ipython",
    "version": 3
   },
   "file_extension": ".py",
   "mimetype": "text/x-python",
   "name": "python",
   "nbconvert_exporter": "python",
   "pygments_lexer": "ipython3",
   "version": "3.7.7"
  }
 },
 "nbformat": 4,
 "nbformat_minor": 4
}
