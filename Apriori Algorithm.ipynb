{
 "cells": [
  {
   "cell_type": "code",
   "execution_count": 1,
   "metadata": {},
   "outputs": [],
   "source": [
    "import pandas as pd\n",
    "import numpy as np\n",
    "from collections import Counter"
   ]
  },
  {
   "cell_type": "code",
   "execution_count": 93,
   "metadata": {},
   "outputs": [],
   "source": [
    "database=[[1,3,4],[2,3,5],[1,2,3,5],[2,5]]"
   ]
  },
  {
   "cell_type": "code",
   "execution_count": 90,
   "metadata": {},
   "outputs": [],
   "source": [
    "database= [[\"MILK\",\"BREAD\",\"BISCUIT\"],\n",
    "                [\"BREAD\",\"MILK\",\"BISCUIT\",\"CORNFLAKES\"],\n",
    "                [\"BREAD\",\"TEA\",\"BOURNVITA\"],\n",
    "                [\"JAM\",\"MAGGI\",\"BREAD\",\"MILK\"],\n",
    "                [\"MAGGI\",\"TEA\",\"BISCUIT\"],\n",
    "                [\"BREAD\",\"TEA\",\"BOURNVITA\"],\n",
    "                [\"MAGGI\",\"TEA\",\"CORNFLAKES\"],\n",
    "                [\"MAGGI\",\"BREAD\",\"TEA\",\"BISCUIT\"],\n",
    "                [\"JAM\",\"MAGGI\",\"BREAD\",\"TEA\"],\n",
    "                [\"BREAD\",\"MILK\"],\n",
    "                [\"COFFEE\",\"COCK\",\"BISCUIT\",\"CORNFLAKES\"],\n",
    "                [\"COFFEE\",\"COCK\",\"BISCUIT\",\"CORNFLAKES\"],\n",
    "                [\"COFFEE\",\"SUGER\",\"BOURNVITA\"],\n",
    "                [\"BREAD\",\"COFFEE\",\"COCK\"],\n",
    "                [\"BREAD\",\"SUGER\",\"BISCUIT\"],\n",
    "                [\"COFFEE\",\"SUGER\",\"CORNFLAKES\"],\n",
    "                [\"BREAD\",\"SUGER\",\"BOURNVITA\"],\n",
    "                [\"BREAD\",\"COFFEE\",\"SUGER\"],\n",
    "                [\"BREAD\",\"COFFEE\",\"SUGER\"],\n",
    "                [\"TEA\",\"MILK\",\"COFFEE\",\"CORNFLAKES\"]]"
   ]
  },
  {
   "cell_type": "code",
   "execution_count": 15,
   "metadata": {},
   "outputs": [],
   "source": [
    "def candidate(l1):\n",
    "    k=[]\n",
    "    for i in l1:\n",
    "        for j in range(len(i)):\n",
    "            k.append((i[j]))\n",
    "    k=sorted(k)\n",
    "    c1=Counter(k)\n",
    "    return c1"
   ]
  },
  {
   "cell_type": "code",
   "execution_count": 16,
   "metadata": {},
   "outputs": [],
   "source": [
    "from itertools import combinations\n",
    "def itertaive(l1,level):\n",
    "    m=[]\n",
    "    if level<2:\n",
    "        m=candidate(l1)\n",
    "    else:\n",
    "        for i in l1:\n",
    "            m.append(list(combinations(i,level)))\n",
    "        m=candidate(m)\n",
    "    return m"
   ]
  },
  {
   "cell_type": "markdown",
   "metadata": {},
   "source": [
    "## Candiate set generation"
   ]
  },
  {
   "cell_type": "code",
   "execution_count": 17,
   "metadata": {},
   "outputs": [],
   "source": [
    "def generateCandidate(fset,level):\n",
    "    if level<=2:\n",
    "        if level==1:\n",
    "            cset=list(fset)\n",
    "        else:\n",
    "            cset=list(combinations(fset,level))\n",
    "    else:\n",
    "        cset=set()\n",
    "        fset=list(fset)\n",
    "        for i in range(len(fset)):\n",
    "            for j in range(i+1,len(fset)):\n",
    "                if fset[i][0]==fset[j][0]:\n",
    "                    cset.add(tuple(set(fset[i]).union(fset[j])))\n",
    "    return cset\n",
    "    "
   ]
  },
  {
   "cell_type": "markdown",
   "metadata": {},
   "source": [
    "# Frequent item sets with support of 50%"
   ]
  },
  {
   "cell_type": "code",
   "execution_count": 27,
   "metadata": {},
   "outputs": [],
   "source": [
    "def frequent(cset,level,threshold):\n",
    "    allfreq=[]\n",
    "    while len(cset)!=0:\n",
    "        if level<2:\n",
    "            cset=generateCandidate(cset,level)\n",
    "\n",
    "        else:\n",
    "            cset=generateCandidate(freq,level)\n",
    "        freq={}\n",
    "        allcom=itertaive(database,level)\n",
    "        for i,j in allcom.items():\n",
    "            if i in cset:\n",
    "                if j>=threshold:\n",
    "                    freq.update({i:j})\n",
    "        level=level+1\n",
    "        allfreq.append(freq)\n",
    "    return allfreq[:-1]\n"
   ]
  },
  {
   "cell_type": "code",
   "execution_count": 94,
   "metadata": {},
   "outputs": [
    {
     "data": {
      "text/plain": [
       "[{1: 2, 2: 3, 3: 3, 5: 3},\n",
       " {(1, 3): 2, (2, 3): 2, (2, 5): 3, (3, 5): 2},\n",
       " {(2, 3, 5): 2}]"
      ]
     },
     "execution_count": 94,
     "metadata": {},
     "output_type": "execute_result"
    }
   ],
   "source": [
    "f1=frequent(candidate(database),1,2)\n",
    "#f1=f1[:-1]\n",
    "f1"
   ]
  },
  {
   "cell_type": "code",
   "execution_count": null,
   "metadata": {},
   "outputs": [],
   "source": [
    "#Confidence(A->B)=Support_count(A∪B)/Support_count(A)"
   ]
  },
  {
   "cell_type": "markdown",
   "metadata": {},
   "source": [
    "## Generating rules and confidence being 50%"
   ]
  },
  {
   "cell_type": "code",
   "execution_count": 83,
   "metadata": {},
   "outputs": [],
   "source": [
    "def confidence(a,b):\n",
    "    for i in f1:\n",
    "        for j,k in i.items():\n",
    "            if j==a:\n",
    "                sa=k\n",
    "            if j==b:\n",
    "                sb=k\n",
    "                return (sb/sa)*100\n",
    "\n",
    "    "
   ]
  },
  {
   "cell_type": "code",
   "execution_count": 88,
   "metadata": {},
   "outputs": [
    {
     "name": "stdout",
     "output_type": "stream",
     "text": [
      "Confidence of {2} => {3, 5} = 66.66666666666666\n",
      "Confidence of {3} => {2, 5} = 66.66666666666666\n",
      "Confidence of {5} => {2, 3} = 66.66666666666666\n",
      "Confidence of (2, 3) => {5} = 100.0\n",
      "Confidence of (2, 5) => {3} = 66.66666666666666\n",
      "Confidence of (3, 5) => {2} = 100.0\n"
     ]
    }
   ],
   "source": [
    "maxf=list(f1[-1].keys())[0]\n",
    "for i in maxf:\n",
    "    print(\"Confidence of\",{i},\"=>\",set(maxf).difference({i}),\"=\",confidence(i,maxf))\n",
    "for i in list(combinations(maxf,2)):\n",
    "    print(\"Confidence of\",i,\"=>\",set(maxf).difference(set(i)),\"=\",confidence(i,(2,3,5)))"
   ]
  },
  {
   "cell_type": "code",
   "execution_count": 92,
   "metadata": {},
   "outputs": [
    {
     "name": "stdout",
     "output_type": "stream",
     "text": [
      "MILK => BREAD = 60.0\n",
      "SUGER => BREAD = 66.66666666666666\n",
      "TEA => BREAD = 57.14285714285714\n",
      "COCK => CORNFLAKES = 66.66666666666666\n",
      "CORNFLAKES => COFFEE = 66.66666666666666\n",
      "SUGER => COFFEE = 66.66666666666666\n",
      "JAM => MAGGI = 100.0\n",
      "MAGGI => TEA = 80.0\n",
      "TEA => MAGGI = 57.14285714285714\n"
     ]
    }
   ],
   "source": [
    "maxf=list(f1[1].keys())\n",
    "for i in maxf:\n",
    "    if confidence(i[0],(i[0],i[1]))>50:\n",
    "        print(i[0],\"=>\",i[1],\"=\",confidence(i[0],(i[0],i[1])))\n",
    "    if confidence(i[1],(i[0],i[1]))>50:\n",
    "        print(i[1],\"=>\",i[0],\"=\",confidence(i[1],(i[0],i[1])))\n",
    "    "
   ]
  },
  {
   "cell_type": "code",
   "execution_count": null,
   "metadata": {},
   "outputs": [],
   "source": []
  }
 ],
 "metadata": {
  "kernelspec": {
   "display_name": "Python 3.7 (tensorflow)",
   "language": "python",
   "name": "tensorflow"
  },
  "language_info": {
   "codemirror_mode": {
    "name": "ipython",
    "version": 3
   },
   "file_extension": ".py",
   "mimetype": "text/x-python",
   "name": "python",
   "nbconvert_exporter": "python",
   "pygments_lexer": "ipython3",
   "version": "3.7.7"
  }
 },
 "nbformat": 4,
 "nbformat_minor": 4
}
